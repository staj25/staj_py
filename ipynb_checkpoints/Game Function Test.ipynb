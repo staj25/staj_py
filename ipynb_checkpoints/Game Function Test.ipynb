{
 "cells": [
  {
   "cell_type": "code",
   "execution_count": 10,
   "id": "e8d8bc24",
   "metadata": {},
   "outputs": [
    {
     "name": "stdout",
     "output_type": "stream",
     "text": [
      "Player 1: 4 (rolled a 4)\n",
      "Player 1: 8 (rolled a 4)\n",
      "Player 1: 13 (rolled a 5)\n",
      "Player 1: 18 (rolled a 5)\n",
      "Player 1: 19 (rolled a 1)\n",
      "Player 1: 24 (rolled a 5)\n",
      "Player 1 Wins !!! \n",
      "Game Over\n"
     ]
    }
   ],
   "source": [
    "from random import randint\n",
    "\n",
    "\n",
    "def run_game():\n",
    "    player_1_score = 0\n",
    "    player_2_score = 0\n",
    "    \n",
    "     \n",
    "    while True:\n",
    "        player_1_roll = randint(1, 6)\n",
    "        player_1_score += player_1_roll\n",
    "        print(f\"Player 1: {player_1_score} (rolled a {player_1_roll})\")\n",
    "        if player_1_score > 20:\n",
    "            print(\"Player 1 Wins !!! \")\n",
    "            break\n",
    "    \n",
    "    print(\"Game Over\")    \n",
    "        \n",
    "\n",
    "if __name__== '__main__':\n",
    "    run_game()"
   ]
  },
  {
   "cell_type": "raw",
   "id": "0ca64d4a",
   "metadata": {},
   "source": [
    "2ND INTERATION - PLAYER 2 !!!!"
   ]
  },
  {
   "cell_type": "code",
   "execution_count": 19,
   "id": "3021698e",
   "metadata": {},
   "outputs": [
    {
     "name": "stdout",
     "output_type": "stream",
     "text": [
      "Player 1: 3 (rolled a 3)\n",
      "Player 2: 4 (rolled a 4)\n",
      "Player 1: 4 (rolled a 1)\n",
      "Player 2: 10 (rolled a 6)\n",
      "Player 1: 5 (rolled a 1)\n",
      "Player 2: 11 (rolled a 1)\n",
      "Player 1: 6 (rolled a 1)\n",
      "Player 2: 14 (rolled a 3)\n",
      "Player 1: 9 (rolled a 3)\n",
      "Player 2: 16 (rolled a 2)\n",
      "Player 1: 11 (rolled a 2)\n",
      "Player 2: 20 (rolled a 4)\n",
      "Player 1: 13 (rolled a 2)\n",
      "Player 2: 22 (rolled a 2)\n",
      "Player 1: 17 (rolled a 4)\n",
      "Player 2: 23 (rolled a 1)\n",
      "Player 1: 18 (rolled a 1)\n",
      "Player 2: 24 (rolled a 1)\n",
      "Player 1: 20 (rolled a 2)\n",
      "Player 2: 29 (rolled a 5)\n",
      "Player 2 Wins !!! \n",
      "Game Over\n"
     ]
    }
   ],
   "source": [
    "from random import randint\n",
    "\n",
    "\n",
    "def run_game():\n",
    "    player_1_score = 0\n",
    "    player_2_score = 0\n",
    "    \n",
    "     \n",
    "    while True:\n",
    "        player_1_roll = randint(1, 6)\n",
    "        player_1_score += player_1_roll\n",
    "        print(f\"Player 1: {player_1_score} (rolled a {player_1_roll})\")\n",
    "        if player_1_score > 25:\n",
    "            print(\"Player 1 Wins !!! \")\n",
    "            break\n",
    "            \n",
    "        player_2_roll = randint(1, 6)\n",
    "        player_2_score += player_2_roll\n",
    "        print(f\"Player 2: {player_2_score} (rolled a {player_2_roll})\")\n",
    "        if player_2_score > 25:\n",
    "            print(\"Player 2 Wins !!! \")\n",
    "            break    \n",
    "    \n",
    "    print(\"Game Over\")    \n",
    "        \n",
    "\n",
    "if __name__== '__main__':\n",
    "    run_game()"
   ]
  },
  {
   "cell_type": "raw",
   "id": "a637c5ff",
   "metadata": {},
   "source": [
    "3rd ITERATION - REFACTORING & MORE PLAYERS "
   ]
  },
  {
   "cell_type": "code",
   "execution_count": 40,
   "id": "a4613e6f",
   "metadata": {},
   "outputs": [
    {
     "name": "stdout",
     "output_type": "stream",
     "text": [
      "current scores [0, 0, 0]\n",
      "Player index is 1\n",
      "Player score is 0\n",
      "------\n",
      "Player 1: 3 (rolled a 3)\n",
      "\n",
      "current scores [3, 0, 0]\n",
      "Player index is 2\n",
      "Player score is 0\n",
      "------\n",
      "Player 2: 2 (rolled a 2)\n",
      "\n",
      "current scores [3, 2, 0]\n",
      "Player index is 3\n",
      "Player score is 0\n",
      "------\n",
      "Player 3: 1 (rolled a 1)\n",
      "\n",
      "current scores [3, 2, 1]\n",
      "Player index is 1\n",
      "Player score is 3\n",
      "------\n",
      "Player 1: 5 (rolled a 2)\n",
      "\n",
      "current scores [5, 2, 1]\n",
      "Player index is 2\n",
      "Player score is 2\n",
      "------\n",
      "Player 2: 3 (rolled a 1)\n",
      "\n",
      "current scores [5, 3, 1]\n",
      "Player index is 3\n",
      "Player score is 1\n",
      "------\n",
      "Player 3: 7 (rolled a 6)\n",
      "\n",
      "current scores [5, 3, 7]\n",
      "\n",
      "Player 3 wins!\n",
      "\n"
     ]
    }
   ],
   "source": [
    "from random import randint\n",
    "\n",
    "\n",
    "def run_game(num_players=2, target_score=10):\n",
    "    #scores = []\n",
    "    #for _ in range(num_players):   # \"_\" used here as a var when the var doesn't have to be re-used\n",
    "    #    scores.append(0)     # add 0 to the scores list for each player i.e. each player has a 0 score from start\n",
    "    \n",
    "    scores = [0 for _ in range(num_players)] # list comprehension that does same as above for loop \n",
    "                                            #- for each player add a starting score of 0 to the scores list\n",
    "    \n",
    "    \n",
    "    print(f\"current scores {scores}\")\n",
    "\n",
    "    # while/for below is to loop through the scores for each player and do the tasks stated in the loop\n",
    "    # identifying which player has which score is essential so the player index is req'd,\n",
    "    # so the enumerate function is required to get the index\n",
    "    \n",
    "    \n",
    "    while True:\n",
    "        for i, score in enumerate(scores): # i = player index, score = player score, note \"scores\" = all players scores\n",
    "            print(f\"Player index is {i + 1}\")\n",
    "            print(f\"Player score is {score}\")\n",
    "            print(\"------\")\n",
    "            player_num = i + 1     # to ensure that player numbers start at 1 and not 0, 0 = first player index by default\n",
    "            roll = randint(1, 6)\n",
    "            score += roll\n",
    "            scores[i] = score      # to ensure that the score for the specific player/index is saved to the scores list\n",
    "            print(f\"Player {player_num}: {score} (rolled a {roll})\")\n",
    "            print(\"\")\n",
    "            print(f\"current scores {scores}\")\n",
    "            if score >= target_score:\n",
    "                print(\"\")\n",
    "                print(f\"Player {player_num} wins!\")\n",
    "                print(\"\")\n",
    "                return\n",
    "                break\n",
    "            \n",
    "           \n",
    "\n",
    "\n",
    "if __name__ == '__main__':\n",
    "    run_game(num_players=3, target_score=7)"
   ]
  },
  {
   "cell_type": "code",
   "execution_count": null,
   "id": "82d57295",
   "metadata": {},
   "outputs": [],
   "source": []
  }
 ],
 "metadata": {
  "kernelspec": {
   "display_name": "Python 3 (ipykernel)",
   "language": "python",
   "name": "python3"
  },
  "language_info": {
   "codemirror_mode": {
    "name": "ipython",
    "version": 3
   },
   "file_extension": ".py",
   "mimetype": "text/x-python",
   "name": "python",
   "nbconvert_exporter": "python",
   "pygments_lexer": "ipython3",
   "version": "3.11.4"
  }
 },
 "nbformat": 4,
 "nbformat_minor": 5
}
