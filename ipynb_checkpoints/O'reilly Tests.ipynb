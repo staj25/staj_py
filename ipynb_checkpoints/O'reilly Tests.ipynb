{
 "cells": [
  {
   "cell_type": "code",
   "execution_count": 2,
   "id": "91b8394a",
   "metadata": {},
   "outputs": [
    {
     "name": "stdout",
     "output_type": "stream",
     "text": [
      "well, it WASN'T defined after all!\n"
     ]
    }
   ],
   "source": [
    "try:\n",
    "    thevariable\n",
    "except NameError:\n",
    "    print(\"well, it WASN'T defined after all!\")\n",
    "else:\n",
    "    print(\"sure, it was defined.\")"
   ]
  },
  {
   "cell_type": "code",
   "execution_count": 8,
   "id": "3d64a12f",
   "metadata": {},
   "outputs": [
    {
     "name": "stdout",
     "output_type": "stream",
     "text": [
      "a exists\n"
     ]
    }
   ],
   "source": [
    "a=None\n",
    "\n",
    "try:\n",
    "    a\n",
    "except:\n",
    "    print(\"a isn't assigned\")\n",
    "else:    \n",
    "    print(\"a exists\")"
   ]
  },
  {
   "cell_type": "code",
   "execution_count": 9,
   "id": "c8701470",
   "metadata": {},
   "outputs": [
    {
     "name": "stdout",
     "output_type": "stream",
     "text": [
      "<class 'type'>\n"
     ]
    }
   ],
   "source": [
    "print(type(TypeError))"
   ]
  },
  {
   "cell_type": "code",
   "execution_count": null,
   "id": "d3ec6a77",
   "metadata": {},
   "outputs": [],
   "source": [
    "print(dir(int))\n",
    "\n",
    "#output:\n",
    "#['__abs__', '__add__', '__and__', '__bool__', '__ceil__', '__class__', '__delattr__', \n",
    "#'__dir__', '__divmod__', '__doc__', '__eq__', '__float__', '__floor__', '__floordiv__', \n",
    "#'__format__', '__ge__', '__getattribute__', '__getnewargs__', '__gt__', '__hash__', \n",
    "#'__index__', '__init__', '__init_subclass__', '__int__', '__invert__', '__le__', \n",
    "#'__lshift__', '__lt__', '__mod__', '__mul__', '__ne__', '__neg__', '__new__', '__or__',\n",
    "#'__pos__', '__pow__', '__radd__', '__rand__', '__rdivmod__', '__reduce__', '__reduce_ex__', \n",
    "#'__repr__', '__rfloordiv__', '__rlshift__', '__rmod__', '__rmul__', '__ror__', '__round__', \n",
    "#'__rpow__', '__rrshift__', '__rshift__', '__rsub__', '__rtruediv__', '__rxor__', '__setattr__',\n",
    "#'__sizeof__', '__str__', '__sub__', '__subclasshook__', '__truediv__', '__trunc__', '__xor__', 'bit_length', \n",
    "#'conjugate', 'denominator', 'from_bytes', 'imag', 'numerator', 'real', 'to_bytes']"
   ]
  },
  {
   "cell_type": "code",
   "execution_count": 13,
   "id": "aa08aeaf",
   "metadata": {},
   "outputs": [
    {
     "name": "stdout",
     "output_type": "stream",
     "text": [
      "<class 'str'>\n"
     ]
    }
   ],
   "source": [
    "print(type('hi'))"
   ]
  },
  {
   "cell_type": "code",
   "execution_count": 128,
   "id": "3cefa210",
   "metadata": {},
   "outputs": [
    {
     "name": "stdout",
     "output_type": "stream",
     "text": [
      "Bike created\n",
      "A test bike\n",
      "<class '__main__.Bike'>\n",
      "<__main__.Bike object at 0x10e406f90>\n",
      "350\n"
     ]
    }
   ],
   "source": [
    "import random\n",
    "from enum import Enum\n",
    "\n",
    "\n",
    "class Condition(Enum):\n",
    "    NEW = 0\n",
    "    GOOD = 1\n",
    "    OKAY = 2\n",
    "    BAD = 3\n",
    "    \n",
    "class MethodNotAllowed(Exception):\n",
    "    pass\n",
    "\n",
    "\n",
    "class Bike():\n",
    "    \n",
    "    count = 0\n",
    "    num_wheels = 3  #Class variable/attribute can be / is different from instance attribute/var\n",
    "                    #Instnce one overrides Class One - \n",
    "      \n",
    "\n",
    "#     class Bike(object):\n",
    "#     def __init__(self, description, condition, sale_price, cost=0):\n",
    "#         self.description = description\n",
    "#         self.condition = condition\n",
    "#         self.sale_price = sale_price\n",
    "#         self.cost = cost\n",
    "\n",
    "#         self.sold = False\n",
    "    \n",
    "    def __init__(self, param1, param2, sale_price, cost=0):\n",
    "        self.param1 = param1\n",
    "        self.param2 = param2\n",
    "        self.sale_price = sale_price\n",
    "        self.cost = cost\n",
    "        self.sold = False\n",
    "        \n",
    "        \n",
    "        Bike.count += 1\n",
    "        print(\"Bike created\")\n",
    "        \n",
    "#     def __del__(self):\n",
    "#         Bike.count -= 1\n",
    "#         print(\"Bike deleted\")\n",
    "        \n",
    "    def sell(self):\n",
    "        \"\"\"\n",
    "        Mark as sold and determine the profit received from selling the bike\n",
    "        \"\"\"\n",
    "        self.sold = True\n",
    "        profit = self.sale_price - self.cost\n",
    "        return profit\n",
    "    \n",
    "    @property\n",
    "    def profit(self):\n",
    "        #if self.sold is False:\n",
    "        if not self.sold:\n",
    "            return None\n",
    "        return self.sale_price - self.cost     \n",
    "    \n",
    "    \n",
    "    @staticmethod\n",
    "    def get_test_bike():\n",
    "        #Bike.test_count += 1\n",
    "        return Bike(\n",
    "            param1=\"A test bike\",\n",
    "            #description=f\"Test bike {Bike.test_count}\",\n",
    "            param2=random.choice(list(Condition)),\n",
    "            #condition=Condition.GOOD,\n",
    "            #sale_price=100\n",
    "            sale_price=random.randrange(100, 500, 25)\n",
    "            #cost=random.randrange(0, 100, 10)\n",
    "        )    \n",
    "\n",
    "    \n",
    "    \n",
    "#rider1 = Bike(\"r1-one\", \"r1-two\", sale_price=100, cost=0)\n",
    "\n",
    "#get_test_bike() removes the need to specify the Bike Class parameters above, so below replaces it\n",
    "\n",
    "rider1 = Bike.get_test_bike()\n",
    "\n",
    "bikes = [rider1]\n",
    "\n",
    "\n",
    "print(rider1.param1) #testing the accessibility of the Class' arguments/parameters\n",
    "\n",
    "\n",
    "print(type(rider1))\n",
    "\n",
    "rider1.number = \"r1-three\"\n",
    "\n",
    "# print(rider1.__dict__)\n",
    "\n",
    "# print(Bike.count)\n",
    "\n",
    "print(rider1)\n",
    "\n",
    "rider1.sell()\n",
    "\n",
    "print(rider1.profit) #Property Test\n",
    "\n",
    "\n",
    "\n",
    "\n",
    "\n",
    "#Objects 2, 3 etc.!!!!\n",
    "\n",
    "# rider2 = Bike(\"r2-one\", \"r2-two\")\n",
    "\n",
    "# rider2.number = \"r2-three\"\n",
    "\n",
    "# print(rider2.__dict__) #instance attributes are stored as dictionaries\n",
    "\n",
    "# print(Bike.count)\n",
    "\n",
    "\n",
    "\n",
    "#Object attributes !!!\n",
    "\n",
    "#vars(rider1) #vars() this also prints out the dictionary of the object/instance\n",
    "\n",
    "#rider1.num_wheels = 10   #Class variable/attribute can be / is different from instance attribute/var\n",
    "\n",
    "#print(rider1.num_wheels) #instance storage var\n",
    "\n",
    "#print(Bike.num_wheels)   #classs storage of var\n",
    "\n",
    "\n",
    "#dir(rider1) #dir() shows you everything you can get from the object\n",
    "\n",
    "# dir(Bike)\n",
    "\n",
    "# vars(Bike)\n",
    "\n",
    "# help(Bike)\n",
    "\n",
    "\n",
    "\n",
    "### delete objects !!!\n",
    "\n",
    "# del(rider1)\n",
    "\n",
    "# print(Bike.count)  \n",
    "\n",
    "# del(rider2)\n",
    "\n",
    "# print(Bike.count) \n",
    "\n",
    "\n",
    "\n",
    "\n",
    "\n"
   ]
  },
  {
   "cell_type": "code",
   "execution_count": 111,
   "id": "5d83e966",
   "metadata": {},
   "outputs": [
    {
     "name": "stdout",
     "output_type": "stream",
     "text": [
      "a Exists\n"
     ]
    }
   ],
   "source": [
    "a = -1 # 0 - False, non-0 is True, none is none\n",
    "\n",
    "if a:\n",
    "    print(\"a Exists\")\n",
    "elif a==False:\n",
    "    print(\"a is False\")\n",
    "elif a==None:\n",
    "    print(\"a is None\")"
   ]
  },
  {
   "cell_type": "code",
   "execution_count": null,
   "id": "070f9439",
   "metadata": {},
   "outputs": [],
   "source": []
  }
 ],
 "metadata": {
  "kernelspec": {
   "display_name": "Python 3 (ipykernel)",
   "language": "python",
   "name": "python3"
  },
  "language_info": {
   "codemirror_mode": {
    "name": "ipython",
    "version": 3
   },
   "file_extension": ".py",
   "mimetype": "text/x-python",
   "name": "python",
   "nbconvert_exporter": "python",
   "pygments_lexer": "ipython3",
   "version": "3.11.4"
  }
 },
 "nbformat": 4,
 "nbformat_minor": 5
}
