{
 "cells": [
  {
   "cell_type": "code",
   "execution_count": 2,
   "id": "78c9c8ef",
   "metadata": {},
   "outputs": [
    {
     "name": "stdout",
     "output_type": "stream",
     "text": [
      "well, it WASN'T defined after all!\n"
     ]
    }
   ],
   "source": [
    "try:\n",
    "    thevariable\n",
    "except NameError:\n",
    "    print(\"well, it WASN'T defined after all!\")\n",
    "else:\n",
    "    print(\"sure, it was defined.\")"
   ]
  },
  {
   "cell_type": "code",
   "execution_count": 8,
   "id": "3be209cd",
   "metadata": {},
   "outputs": [
    {
     "name": "stdout",
     "output_type": "stream",
     "text": [
      "a exists\n"
     ]
    }
   ],
   "source": [
    "a=None\n",
    "\n",
    "try:\n",
    "    a\n",
    "except:\n",
    "    print(\"a isn't assigned\")\n",
    "else:    \n",
    "    print(\"a exists\")"
   ]
  },
  {
   "cell_type": "code",
   "execution_count": 9,
   "id": "f490d277",
   "metadata": {},
   "outputs": [
    {
     "name": "stdout",
     "output_type": "stream",
     "text": [
      "<class 'type'>\n"
     ]
    }
   ],
   "source": [
    "print(type(TypeError))"
   ]
  },
  {
   "cell_type": "code",
   "execution_count": null,
   "id": "bcc69cb0",
   "metadata": {},
   "outputs": [],
   "source": [
    "print(dir(int))\n",
    "\n",
    "#output:\n",
    "#['__abs__', '__add__', '__and__', '__bool__', '__ceil__', '__class__', '__delattr__', \n",
    "#'__dir__', '__divmod__', '__doc__', '__eq__', '__float__', '__floor__', '__floordiv__', \n",
    "#'__format__', '__ge__', '__getattribute__', '__getnewargs__', '__gt__', '__hash__', \n",
    "#'__index__', '__init__', '__init_subclass__', '__int__', '__invert__', '__le__', \n",
    "#'__lshift__', '__lt__', '__mod__', '__mul__', '__ne__', '__neg__', '__new__', '__or__',\n",
    "#'__pos__', '__pow__', '__radd__', '__rand__', '__rdivmod__', '__reduce__', '__reduce_ex__', \n",
    "#'__repr__', '__rfloordiv__', '__rlshift__', '__rmod__', '__rmul__', '__ror__', '__round__', \n",
    "#'__rpow__', '__rrshift__', '__rshift__', '__rsub__', '__rtruediv__', '__rxor__', '__setattr__',\n",
    "#'__sizeof__', '__str__', '__sub__', '__subclasshook__', '__truediv__', '__trunc__', '__xor__', 'bit_length', \n",
    "#'conjugate', 'denominator', 'from_bytes', 'imag', 'numerator', 'real', 'to_bytes']"
   ]
  },
  {
   "cell_type": "code",
   "execution_count": 13,
   "id": "72c138de",
   "metadata": {},
   "outputs": [
    {
     "name": "stdout",
     "output_type": "stream",
     "text": [
      "<class 'str'>\n"
     ]
    }
   ],
   "source": [
    "print(type('hi'))"
   ]
  },
  {
   "cell_type": "code",
   "execution_count": 181,
   "id": "48c9ae7d",
   "metadata": {},
   "outputs": [
    {
     "name": "stdout",
     "output_type": "stream",
     "text": [
      "Bike created\n",
      "A test bike\n",
      "Bike created\n",
      "Bike created\n",
      "Bike created\n",
      "unicycle example - 3\n",
      "unicycle 2 example - u2-two\n",
      "test object classmethod example - Get test object test desc - A test bike -> BIKE\n",
      "type of uni - <class '__main__.Bike'>\n"
     ]
    }
   ],
   "source": [
    "import random\n",
    "from enum import Enum\n",
    "\n",
    "\n",
    "class Condition(Enum):\n",
    "    NEW = 0\n",
    "    GOOD = 1\n",
    "    OKAY = 2\n",
    "    BAD = 3\n",
    "    \n",
    "class MethodNotAllowed(Exception):\n",
    "    pass\n",
    "\n",
    "\n",
    "class Bike():\n",
    "    \n",
    "    count = 0\n",
    "    num_wheels = 3  #Class variable/attribute can be / is different from instance attribute/var\n",
    "                    #Instnce one overrides Class One - \n",
    "      \n",
    "\n",
    "#     class Bike(object):\n",
    "#     def __init__(self, description, condition, sale_price, cost=0):\n",
    "#         self.description = description\n",
    "#         self.condition = condition\n",
    "#         self.sale_price = sale_price\n",
    "#         self.cost = cost\n",
    "\n",
    "#         self.sold = False\n",
    "    \n",
    "    def __init__(self, param1, param2, sale_price, cost=0):\n",
    "        self.param1 = param1\n",
    "        self.param2 = param2\n",
    "        self.sale_price = sale_price\n",
    "        self.cost = cost\n",
    "        self.sold = False\n",
    "        \n",
    "        \n",
    "        Bike.count += 1\n",
    "        print(\"Bike created\")\n",
    "        \n",
    "#     def __del__(self):\n",
    "#         Bike.count -= 1\n",
    "#         print(\"Bike deleted\")\n",
    "        \n",
    "    def sell(self):\n",
    "        \"\"\"\n",
    "        Mark as sold and determine the profit received from selling the bike\n",
    "        \"\"\"\n",
    "        self.sold = True\n",
    "        profit = self.sale_price - self.cost\n",
    "        return profit\n",
    "    \n",
    "    @property\n",
    "    def profit(self):\n",
    "        #if self.sold is False:\n",
    "        if not self.sold:\n",
    "            return None\n",
    "        return self.sale_price - self.cost     \n",
    "    \n",
    "    \n",
    "    @staticmethod\n",
    "    def get_test_bike():\n",
    "        #Bike.test_count += 1\n",
    "        return Bike(\n",
    "            param1=\"A test bike\",\n",
    "            #description=f\"Test bike {Bike.test_count}\",\n",
    "            param2=random.choice(list(Condition)),\n",
    "            #condition=Condition.GOOD,\n",
    "            #sale_price=100\n",
    "            sale_price=random.randrange(100, 500, 25)\n",
    "            #cost=random.randrange(0, 100, 10)\n",
    "        )    \n",
    "\n",
    "    \n",
    "    @classmethod\n",
    "    def get_test_obj(cls):        \n",
    "        return cls(\n",
    "            param1=f\"Get test object test desc - A test bike -> {cls.__name__.upper()}\",\n",
    "            param2=random.choice(list(Condition)),\n",
    "            sale_price=random.randrange(1000, 5000, 250)\n",
    "            )    \n",
    "    \n",
    "class Unicycle(Bike):\n",
    "    count = 0\n",
    "    num_wheels = 1     \n",
    "    \n",
    "#rider1 = Bike(\"r1-one\", \"r1-two\", sale_price=100, cost=0)\n",
    "\n",
    "#get_test_bike() removes the need to specify the Bike Class parameters above, so below replaces it\n",
    "\n",
    "rider1 = Bike.get_test_bike()\n",
    "\n",
    "bikes = [rider1]\n",
    "\n",
    "\n",
    "print(rider1.param1) #testing the accessibility of the Class' arguments/parameters\n",
    "\n",
    "\n",
    "#print(type(rider1))\n",
    "\n",
    "rider1.number = \"r1-three\"\n",
    "\n",
    "my_bike = Bike.get_test_obj()\n",
    "\n",
    "# print(Bike.count)\n",
    "\n",
    "my_uni = Unicycle.get_test_bike()\n",
    "my_uni2 = Unicycle(\"uni2-two\", \"u2-two\", sale_price=100, cost=0)\n",
    "\n",
    "print(f\"unicycle example - {my_uni.num_wheels}\")\n",
    "print(f\"unicycle 2 example - {my_uni2.param2}\")\n",
    "    \n",
    "print(f\"test object classmethod example - {my_bike.param1}\")\n",
    "\n",
    "\n",
    "print(f\"type of uni - {type(my_uni)}\")\n",
    "\n",
    "\n"
   ]
  },
  {
   "cell_type": "raw",
   "id": "bbfb0531",
   "metadata": {},
   "source": [
    "# OBJECT 2 AND OTHER TEST CODE FOR ABOVE CODE\n",
    "\n",
    "#Objects 2, 3 etc.!!!!\n",
    "\n",
    "# rider2 = Bike(\"r2-one\", \"r2-two\")\n",
    "\n",
    "# rider2.number = \"r2-three\"\n",
    "\n",
    "# print(rider2.__dict__) #instance attributes are stored as dictionaries\n",
    "\n",
    "# print(Bike.count)\n",
    "\n",
    "\n",
    "\n",
    "#Object attributes !!!\n",
    "\n",
    "#vars(rider1) #vars() this also prints out the dictionary of the object/instance\n",
    "\n",
    "#rider1.num_wheels = 10   #Class variable/attribute can be / is different from instance attribute/var\n",
    "\n",
    "#print(rider1.num_wheels) #instance storage var\n",
    "\n",
    "#print(Bike.num_wheels)   #classs storage of var\n",
    "\n",
    "\n",
    "#dir(rider1) #dir() shows you everything you can get from the object\n",
    "\n",
    "# dir(Bike)\n",
    "\n",
    "# vars(Bike)\n",
    "\n",
    "# help(Bike)\n",
    "\n",
    "\n",
    "\n",
    "### delete objects !!!\n",
    "\n",
    "# del(rider1)\n",
    "\n",
    "# print(Bike.count)  \n",
    "\n",
    "# del(rider2)\n",
    "\n",
    "# print(Bike.count) \n"
   ]
  },
  {
   "cell_type": "code",
   "execution_count": 136,
   "id": "60f89bd6",
   "metadata": {},
   "outputs": [
    {
     "name": "stdout",
     "output_type": "stream",
     "text": [
      "a Exists\n"
     ]
    }
   ],
   "source": [
    "a = -1 # 0 - False, non-0 is True, none is none\n",
    "\n",
    "if a:\n",
    "    print(\"a Exists\")\n",
    "elif a==False:\n",
    "    print(\"a is False\")\n",
    "elif a==None:\n",
    "    print(\"a is None\")"
   ]
  },
  {
   "cell_type": "code",
   "execution_count": 183,
   "id": "c1a6ec89",
   "metadata": {},
   "outputs": [
    {
     "name": "stdout",
     "output_type": "stream",
     "text": [
      "Sum is -> 10\n",
      "N is -> 9\n",
      "Sum is -> 19\n",
      "N is -> 8\n",
      "Sum is -> 27\n",
      "N is -> 7\n",
      "Sum is -> 34\n",
      "N is -> 6\n",
      "Sum is -> 40\n",
      "N is -> 5\n",
      "Sum is -> 45\n",
      "N is -> 4\n",
      "Sum is -> 49\n",
      "N is -> 3\n",
      "Sum is -> 52\n",
      "N is -> 2\n",
      "Sum is -> 54\n",
      "N is -> 1\n",
      "Sum is -> 55\n",
      "N is -> 0\n",
      "Sum of First 10 Numbers is 55\n"
     ]
    }
   ],
   "source": [
    "\n",
    "# Python program to demonstrate\n",
    "# while loop with True\n",
    "  \n",
    "N = 10\n",
    "Sum = 0\n",
    "  \n",
    "# This loop will run forever\n",
    "while True:\n",
    "    Sum += N\n",
    "    print(f\"Sum is -> {Sum}\")\n",
    "    N -= 1\n",
    "    print(f\"N is -> {N}\")\n",
    "\n",
    "    \n",
    "    # the below condition will tell\n",
    "    # the loop to stop\n",
    "    if N == 0:\n",
    "        break\n",
    "          \n",
    "print(f\"Sum of First 10 Numbers is {Sum}\")"
   ]
  },
  {
   "cell_type": "code",
   "execution_count": 1,
   "id": "49022dee",
   "metadata": {},
   "outputs": [
    {
     "name": "stdout",
     "output_type": "stream",
     "text": [
      "[0, 1]\n"
     ]
    }
   ],
   "source": [
    "num_players=2\n",
    "scores = [_ for _ in range(num_players)]\n",
    "print(scores)"
   ]
  },
  {
   "cell_type": "code",
   "execution_count": 2,
   "id": "f1e88aa0",
   "metadata": {},
   "outputs": [
    {
     "name": "stdout",
     "output_type": "stream",
     "text": [
      "[100, 100]\n"
     ]
    }
   ],
   "source": [
    "num_players=2\n",
    "scores = [100 for _ in range(num_players)]\n",
    "print(scores)"
   ]
  },
  {
   "cell_type": "code",
   "execution_count": null,
   "id": "5fb4587f",
   "metadata": {},
   "outputs": [],
   "source": [
    "from random import randint\n",
    "\n",
    "\n",
    "def run_game(num_players=2):\n",
    "    scores = [0 for _ in range(num_players)]\n",
    "    \n",
    "    print(scores)\n",
    "\n",
    "    while True:\n",
    "        for i, score in enumerate(scores):\n",
    "            print(f\"i is {i}\")\n",
    "            print(f\"score is {score}\")\n",
    "            player_num = i + 1\n",
    "            roll = randint(1, 6)\n",
    "            score += roll\n",
    "            scores[i] = score\n",
    "            print(f\"Player {player_num}: {score} (rolled a {roll})\")\n",
    "            if score >= 10:\n",
    "                print(f\"Player {player_num} wins!\")\n",
    "                return\n",
    "\n",
    "\n",
    "if __name__ == '__main__':\n",
    "    run_game()\n",
    "#     print(\"---- GAME 1 START ----\")\n",
    "#     run_game(num_players=4, target_score=20)\n",
    "#     print(\"---- GAME 1 END ----\")\n",
    "#     print()\n",
    "#     print(\"---- GAME 2 START ----\")\n",
    "#     run_game(num_players=3, target_score=50)\n",
    "#     print(\"---- GAME 2 END ----\")"
   ]
  },
  {
   "cell_type": "code",
   "execution_count": 5,
   "id": "6d28e517",
   "metadata": {},
   "outputs": [
    {
     "name": "stdout",
     "output_type": "stream",
     "text": [
      "6\n"
     ]
    }
   ],
   "source": [
    "ranum = randint(1, 6)\n",
    "print(ranum)"
   ]
  },
  {
   "cell_type": "code",
   "execution_count": 6,
   "id": "8e20dbae",
   "metadata": {},
   "outputs": [
    {
     "name": "stdout",
     "output_type": "stream",
     "text": [
      "[(0, 0), (1, 0), (2, 5), (3, 120)]\n"
     ]
    }
   ],
   "source": [
    "x = (0,0,5,120)\n",
    "y = enumerate(x)\n",
    "\n",
    "print(list(y))\n"
   ]
  },
  {
   "cell_type": "code",
   "execution_count": null,
   "id": "50b5680a",
   "metadata": {},
   "outputs": [],
   "source": [
    "from random import randint\n",
    "\n",
    "\n",
    "def run_game():\n",
    "    player_1_score = 0\n",
    "    player_2_score = 0\n",
    "    \n",
    "     \n",
    "    while True:\n",
    "        player_1_roll = randint(1, 6)\n",
    "        player_1_score += player_1_roll\n",
    "        print(f\"Player 1: {player_1_score} (rolled a {player_1_roll})\")\n",
    "        if player_1_score > 20:\n",
    "            print(\"Player 1 Wins !!! \")\n",
    "            break\n",
    "    \n",
    "    print(\"Game Over\")    \n",
    "        \n",
    "\n",
    "if __name__== '__main__':\n",
    "    run_game()"
   ]
  },
  {
   "cell_type": "code",
   "execution_count": null,
   "id": "8d9c5918",
   "metadata": {},
   "outputs": [],
   "source": []
  }
 ],
 "metadata": {
  "kernelspec": {
   "display_name": "Python 3 (ipykernel)",
   "language": "python",
   "name": "python3"
  },
  "language_info": {
   "codemirror_mode": {
    "name": "ipython",
    "version": 3
   },
   "file_extension": ".py",
   "mimetype": "text/x-python",
   "name": "python",
   "nbconvert_exporter": "python",
   "pygments_lexer": "ipython3",
   "version": "3.11.4"
  }
 },
 "nbformat": 4,
 "nbformat_minor": 5
}
