{
 "cells": [
  {
   "cell_type": "code",
   "execution_count": 2,
   "id": "060690a6",
   "metadata": {},
   "outputs": [
    {
     "name": "stdout",
     "output_type": "stream",
     "text": [
      "well, it WASN'T defined after all!\n"
     ]
    }
   ],
   "source": [
    "try:\n",
    "    thevariable\n",
    "except NameError:\n",
    "    print(\"well, it WASN'T defined after all!\")\n",
    "else:\n",
    "    print(\"sure, it was defined.\")"
   ]
  },
  {
   "cell_type": "code",
   "execution_count": 8,
   "id": "50d66207",
   "metadata": {},
   "outputs": [
    {
     "name": "stdout",
     "output_type": "stream",
     "text": [
      "a exists\n"
     ]
    }
   ],
   "source": [
    "a=None\n",
    "\n",
    "try:\n",
    "    a\n",
    "except:\n",
    "    print(\"a isn't assigned\")\n",
    "else:    \n",
    "    print(\"a exists\")"
   ]
  },
  {
   "cell_type": "code",
   "execution_count": 9,
   "id": "ff728bb2",
   "metadata": {},
   "outputs": [
    {
     "name": "stdout",
     "output_type": "stream",
     "text": [
      "<class 'type'>\n"
     ]
    }
   ],
   "source": [
    "print(type(TypeError))"
   ]
  },
  {
   "cell_type": "code",
   "execution_count": null,
   "id": "baa33f8a",
   "metadata": {},
   "outputs": [],
   "source": [
    "print(dir(int))\n",
    "\n",
    "#output:\n",
    "#['__abs__', '__add__', '__and__', '__bool__', '__ceil__', '__class__', '__delattr__', \n",
    "#'__dir__', '__divmod__', '__doc__', '__eq__', '__float__', '__floor__', '__floordiv__', \n",
    "#'__format__', '__ge__', '__getattribute__', '__getnewargs__', '__gt__', '__hash__', \n",
    "#'__index__', '__init__', '__init_subclass__', '__int__', '__invert__', '__le__', \n",
    "#'__lshift__', '__lt__', '__mod__', '__mul__', '__ne__', '__neg__', '__new__', '__or__',\n",
    "#'__pos__', '__pow__', '__radd__', '__rand__', '__rdivmod__', '__reduce__', '__reduce_ex__', \n",
    "#'__repr__', '__rfloordiv__', '__rlshift__', '__rmod__', '__rmul__', '__ror__', '__round__', \n",
    "#'__rpow__', '__rrshift__', '__rshift__', '__rsub__', '__rtruediv__', '__rxor__', '__setattr__',\n",
    "#'__sizeof__', '__str__', '__sub__', '__subclasshook__', '__truediv__', '__trunc__', '__xor__', 'bit_length', \n",
    "#'conjugate', 'denominator', 'from_bytes', 'imag', 'numerator', 'real', 'to_bytes']"
   ]
  },
  {
   "cell_type": "code",
   "execution_count": 13,
   "id": "32b4fee4",
   "metadata": {},
   "outputs": [
    {
     "name": "stdout",
     "output_type": "stream",
     "text": [
      "<class 'str'>\n"
     ]
    }
   ],
   "source": [
    "print(type('hi'))"
   ]
  },
  {
   "cell_type": "code",
   "execution_count": 59,
   "id": "1e6c1d10",
   "metadata": {},
   "outputs": [
    {
     "name": "stdout",
     "output_type": "stream",
     "text": [
      "Bike created\n",
      "{'param1': 'r1-one', 'param2': 'r1-two', 'number': 'r1-three'}\n",
      "1\n",
      "Bike created\n",
      "{'param1': 'r2-one', 'param2': 'r2-two', 'number': 'r2-three'}\n",
      "2\n",
      "Bike deleted\n",
      "1\n",
      "Bike deleted\n",
      "0\n"
     ]
    }
   ],
   "source": [
    "class Bike():\n",
    "    \n",
    "    count = 0\n",
    "    num_wheels = 3  #Class variable/attribute can be / is different from instance attribute/var\n",
    "                    #Instnce one overrides Class One - \n",
    "\n",
    "    def __init__(self, param1, param2):\n",
    "        self.param1 = param1\n",
    "        self.param2 = param2\n",
    "        Bike.count += 1\n",
    "        print(\"Bike created\")\n",
    "        \n",
    "    def __del__(self):\n",
    "        Bike.count -= 1\n",
    "        print(\"Bike deleted\")\n",
    "        \n",
    "\n",
    "rider1 = Bike(\"r1-one\", \"r1-two\")\n",
    "\n",
    "rider1.number = \"r1-three\"\n",
    "\n",
    "print(rider1.__dict__)\n",
    "\n",
    "print(Bike.count)  \n",
    "\n",
    "\n",
    "\n",
    "\n",
    "rider2 = Bike(\"r2-one\", \"r2-two\")\n",
    "\n",
    "rider2.number = \"r2-three\"\n",
    "\n",
    "print(rider2.__dict__) #instance attributes are stored as dictionaries\n",
    "\n",
    "print(Bike.count)\n",
    "\n",
    "\n",
    "#vars(rider1) #vars() this also prints out the dictionary of the object/instance\n",
    "\n",
    "#rider1.num_wheels = 10   #Class variable/attribute can be / is different from instance attribute/var\n",
    "\n",
    "#print(rider1.num_wheels) #instance storage var\n",
    "\n",
    "#print(Bike.num_wheels)   #classs storage of var\n",
    "\n",
    "\n",
    "#dir(rider1) #dir() shows you everything you can get from the object\n",
    "\n",
    "# dir(Bike)\n",
    "\n",
    "# vars(Bike)\n",
    "\n",
    "# help(Bike)\n",
    "\n",
    "\n",
    "\n",
    "del(rider1)\n",
    "\n",
    "print(Bike.count)  \n",
    "\n",
    "del(rider2)\n",
    "\n",
    "print(Bike.count) \n",
    "\n",
    "\n",
    "\n",
    "\n",
    "\n",
    "\n"
   ]
  },
  {
   "cell_type": "code",
   "execution_count": null,
   "id": "75a353c8",
   "metadata": {},
   "outputs": [],
   "source": []
  },
  {
   "cell_type": "code",
   "execution_count": null,
   "id": "2b3a3cc8",
   "metadata": {},
   "outputs": [],
   "source": []
  }
 ],
 "metadata": {
  "kernelspec": {
   "display_name": "Python 3 (ipykernel)",
   "language": "python",
   "name": "python3"
  },
  "language_info": {
   "codemirror_mode": {
    "name": "ipython",
    "version": 3
   },
   "file_extension": ".py",
   "mimetype": "text/x-python",
   "name": "python",
   "nbconvert_exporter": "python",
   "pygments_lexer": "ipython3",
   "version": "3.11.4"
  }
 },
 "nbformat": 4,
 "nbformat_minor": 5
}
