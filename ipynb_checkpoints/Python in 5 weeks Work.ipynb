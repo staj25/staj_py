{
 "cells": [
  {
   "cell_type": "code",
   "execution_count": 1,
   "id": "f2f9d65b",
   "metadata": {},
   "outputs": [
    {
     "name": "stdout",
     "output_type": "stream",
     "text": [
      "Enter string - Ronaldo De Lima Nazario - 9\n",
      "number of vowels is 10\n",
      "number of digits is 1\n",
      "number of others is 16\n"
     ]
    }
   ],
   "source": [
    "vowels = 0\n",
    "\n",
    "digits = 0\n",
    "\n",
    "others = 0\n",
    "\n",
    "user_input = input(\"Enter string - \").strip()\n",
    "\n",
    "for i in user_input:\n",
    "    if i in 'aeiou':\n",
    "        vowels += 1\n",
    "    elif i.isdigit():\n",
    "        digits += 1\n",
    "    else:\n",
    "        others += 1\n",
    "\n",
    "print(f\"number of vowels is {vowels}\")\n",
    "\n",
    "print(f\"number of digits is {digits}\")\n",
    "\n",
    "print(f\"number of others is {others}\")"
   ]
  },
  {
   "cell_type": "code",
   "execution_count": 2,
   "id": "ddfd75ad",
   "metadata": {},
   "outputs": [
    {
     "name": "stdout",
     "output_type": "stream",
     "text": [
      "Enter name - tuitui\n",
      "t\n",
      "tu\n",
      "tui\n",
      "tuit\n",
      "tuitu\n",
      "tuitui\n"
     ]
    }
   ],
   "source": [
    "user_name = input(\"Enter name - \").strip()\n",
    "\n",
    "\n",
    "for i in range(len(user_name)):\n",
    "    print(user_name[:i+1]) \n",
    "\n",
    "# +1 is necessary as in slicing the end number isn't included e.g. s = 'abcd' s[:3] will give you the values but 1."
   ]
  },
  {
   "cell_type": "code",
   "execution_count": 4,
   "id": "2a7dc8d2",
   "metadata": {},
   "outputs": [
    {
     "name": "stdout",
     "output_type": "stream",
     "text": [
      "Enter string containing digits - jhj1jk1jkh1jk1jk1bk1jk1\n",
      "j is not a digit\n",
      "total = 7\n",
      "Enter string containing digits - sdjfj3jk233j\n",
      "s is not a digit\n",
      "total = 18\n"
     ]
    }
   ],
   "source": [
    "total = 0\n",
    "\n",
    "\n",
    "\n",
    "while total <= 7:\n",
    "    \n",
    "    user_input = input(\"Enter string containing digits - \").strip()\n",
    "    \n",
    "    already_warned = False    #once one character of the entered string is not a digit\n",
    "                              #there's no need to report the other characters of the digit as not being digits\n",
    "                              #as we now know that the string isn't made up of all numbers/digits\n",
    "                              #I think we should be highlighting the characters that are digits instead\n",
    "    \n",
    "    for i in user_input:\n",
    "        if not i.isdigit():   #check if not digit\n",
    "            if not already_warned:   #check created flag to signal that not digit warning has now been printed\n",
    "                already_warned = True    #for all the upcoming character iterations the value will be True\n",
    "                print(f\"{i} is not a digit\")  #and there'll be no need to print out that the new characters are digits\n",
    "            continue\n",
    "            \n",
    "        total += int(i)\n",
    "        \n",
    "    print(f'total = {total}')    \n",
    "        \n",
    "    "
   ]
  },
  {
   "cell_type": "code",
   "execution_count": null,
   "id": "336cc039",
   "metadata": {},
   "outputs": [],
   "source": []
  }
 ],
 "metadata": {
  "kernelspec": {
   "display_name": "Python 3 (ipykernel)",
   "language": "python",
   "name": "python3"
  },
  "language_info": {
   "codemirror_mode": {
    "name": "ipython",
    "version": 3
   },
   "file_extension": ".py",
   "mimetype": "text/x-python",
   "name": "python",
   "nbconvert_exporter": "python",
   "pygments_lexer": "ipython3",
   "version": "3.11.4"
  }
 },
 "nbformat": 4,
 "nbformat_minor": 5
}
