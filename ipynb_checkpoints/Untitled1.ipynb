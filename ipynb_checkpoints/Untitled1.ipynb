{
 "cells": [
  {
   "cell_type": "code",
   "execution_count": 14,
   "id": "1746ee4d",
   "metadata": {},
   "outputs": [],
   "source": [
    "paul = 10"
   ]
  },
  {
   "cell_type": "code",
   "execution_count": 16,
   "id": "94dbbdd8",
   "metadata": {},
   "outputs": [
    {
     "data": {
      "text/plain": [
       "int"
      ]
     },
     "execution_count": 16,
     "metadata": {},
     "output_type": "execute_result"
    }
   ],
   "source": [
    "type(paul)"
   ]
  },
  {
   "cell_type": "code",
   "execution_count": 27,
   "id": "e277f940",
   "metadata": {},
   "outputs": [
    {
     "name": "stdout",
     "output_type": "stream",
     "text": [
      "not a string\n"
     ]
    }
   ],
   "source": [
    "if type(paul) == str:\n",
    "        print('this is a string')\n",
    "else:\n",
    "    print('not a string')"
   ]
  },
  {
   "cell_type": "code",
   "execution_count": 29,
   "id": "0779da7b",
   "metadata": {},
   "outputs": [
    {
     "data": {
      "text/plain": [
       "False"
      ]
     },
     "execution_count": 29,
     "metadata": {},
     "output_type": "execute_result"
    }
   ],
   "source": [
    "type(paul) == str"
   ]
  },
  {
   "cell_type": "code",
   "execution_count": 38,
   "id": "719fc663",
   "metadata": {},
   "outputs": [
    {
     "name": "stdout",
     "output_type": "stream",
     "text": [
      " What is your name : Pau\n"
     ]
    }
   ],
   "source": [
    "name = input(\" What is your name : \" )"
   ]
  },
  {
   "cell_type": "code",
   "execution_count": 40,
   "id": "8feec146",
   "metadata": {},
   "outputs": [
    {
     "name": "stdout",
     "output_type": "stream",
     "text": [
      "Pau\n"
     ]
    }
   ],
   "source": [
    "print(name)"
   ]
  },
  {
   "cell_type": "code",
   "execution_count": 49,
   "id": "4343434c",
   "metadata": {},
   "outputs": [
    {
     "name": "stdout",
     "output_type": "stream",
     "text": [
      "Input a number: 100\n",
      "type verification - type(number) \n",
      "lower\n"
     ]
    }
   ],
   "source": [
    "number = int(input(\"Input a number: \" ))\n",
    "\n",
    "print(\"type verification - type(number) \" )\n",
    "\n",
    "if number > 6:\n",
    "    print(\"lower\")\n",
    "elif number < 6:\n",
    "    print(\"higher\")\n",
    "else:\n",
    "    print(\"Unbelievable...you guessed it!\")"
   ]
  },
  {
   "cell_type": "code",
   "execution_count": 51,
   "id": "e164f86b",
   "metadata": {},
   "outputs": [
    {
     "name": "stdout",
     "output_type": "stream",
     "text": [
      "paul is over 40 years old today - January\n"
     ]
    }
   ],
   "source": [
    "name = 'paul'\n",
    "age = 40\n",
    "date = \"January\"\n",
    "\n",
    "print('{1} is over {0} years old today - {2}'.format(age,name,date))"
   ]
  }
 ],
 "metadata": {
  "kernelspec": {
   "display_name": "Python 3 (ipykernel)",
   "language": "python",
   "name": "python3"
  },
  "language_info": {
   "codemirror_mode": {
    "name": "ipython",
    "version": 3
   },
   "file_extension": ".py",
   "mimetype": "text/x-python",
   "name": "python",
   "nbconvert_exporter": "python",
   "pygments_lexer": "ipython3",
   "version": "3.10.6"
  }
 },
 "nbformat": 4,
 "nbformat_minor": 5
}
